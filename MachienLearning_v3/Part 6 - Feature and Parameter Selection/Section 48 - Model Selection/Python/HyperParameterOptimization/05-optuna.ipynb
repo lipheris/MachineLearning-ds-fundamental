{
 "cells": [
  {
   "cell_type": "markdown",
   "metadata": {},
   "source": [
    "# 自動調參工具\n",
    "## optuna\n",
    "\n",
    "Optuna has modern functionalities as follows:\n",
    "\n",
    "- Lightweight, versatile, and platform agnostic architecture\n",
    "    - Handle a wide variety of tasks with a simple installation that has few requirements.\n",
    "\n",
    "- Pythonic search spaces\n",
    "    - Define search spaces using familiar Python syntax including conditionals and loops.\n",
    "\n",
    "- Efficient optimization algorithms\n",
    "    - Adopt state-of-the-art algorithms for sampling hyperparameters and efficiently pruning unpromising trials.\n",
    "\n",
    "- Easy parallelization\n",
    "    - Scale studies to tens or hundreds of workers with little or no changes to the code.\n",
    "\n",
    "- Quick visualization\n",
    "    - Inspect optimization histories from a variety of plotting functions.\n",
    "\n",
    "\n",
    "https://github.com/optuna/optuna\n"
   ]
  },
  {
   "cell_type": "code",
   "execution_count": 8,
   "metadata": {},
   "outputs": [],
   "source": [
    "import pandas as pd\n",
    "import numpy as np\n",
    "\n",
    "from sklearn import metrics\n",
    "from sklearn.model_selection import StratifiedKFold, RandomizedSearchCV\n",
    "from sklearn.pipeline import Pipeline\n",
    "from sklearn.preprocessing import StandardScaler\n",
    "from sklearn.decomposition import PCA\n",
    "from sklearn.ensemble import RandomForestClassifier\n",
    "\n",
    "from functools import partial\n",
    "from skopt import space, gp_minimize\n",
    "\n",
    "from hyperopt import hp, fmin, tpe, Trials, STATUS_OK, STATUS_FAIL, space_eval\n",
    "from hyperopt.pyll.base import scope\n",
    "\n",
    "import optuna\n"
   ]
  },
  {
   "cell_type": "markdown",
   "metadata": {},
   "source": [
    "## 定義代理函數"
   ]
  },
  {
   "cell_type": "code",
   "execution_count": 9,
   "metadata": {},
   "outputs": [],
   "source": [
    "# Function definition for model optimization\n",
    "def optimize_model(trial, x, y):\n",
    "    \n",
    "    criterion = trial.suggest_categorical('criterion', ['gini', 'entropy'])\n",
    "    n_estimators = trial.suggest_int('n_estimators', 100, 1500)\n",
    "    max_depth = trial.suggest_int('max_depth', 3, 15)\n",
    "    max_features = trial.suggest_float('max_features', 0.01, 1.0)\n",
    "\n",
    "    model = RandomForestClassifier(\n",
    "        n_estimators=n_estimators,\n",
    "        max_depth=max_depth,\n",
    "        max_features=max_features,\n",
    "        criterion=criterion,\n",
    "    )\n",
    "\n",
    "    \n",
    "    kf = StratifiedKFold(n_splits=5)\n",
    "    accuracies = []\n",
    "\n",
    "    for idx in kf.split(X=x, y=y):\n",
    "        train_idx, test_idx = idx[0], idx[1]\n",
    "        x_train = x[train_idx]\n",
    "        y_train = y[train_idx]\n",
    "\n",
    "        x_test = x[test_idx]\n",
    "        y_test = y[test_idx]\n",
    "\n",
    "        model.fit(x_train, y_train)\n",
    "        preds = model.predict(x_test)\n",
    "\n",
    "        fold_acc = metrics.accuracy_score(y_test, preds)\n",
    "        accuracies.append(fold_acc)\n",
    "\n",
    "        return -1.0 * np.mean(accuracies)\n"
   ]
  },
  {
   "cell_type": "code",
   "execution_count": 10,
   "metadata": {},
   "outputs": [
    {
     "name": "stderr",
     "output_type": "stream",
     "text": [
      "[I 2024-05-24 11:49:32,186] A new study created in memory with name: Random Forest Optimization\n",
      "[I 2024-05-24 11:49:32,560] Trial 0 finished with value: -0.8575 and parameters: {'criterion': 'entropy', 'n_estimators': 234, 'max_depth': 8, 'max_features': 0.15940697907744003}. Best is trial 0 with value: -0.8575.\n",
      "[I 2024-05-24 11:49:36,313] Trial 1 finished with value: -0.89 and parameters: {'criterion': 'gini', 'n_estimators': 808, 'max_depth': 11, 'max_features': 0.9845331997460428}. Best is trial 1 with value: -0.89.\n",
      "[I 2024-05-24 11:49:39,034] Trial 2 finished with value: -0.88 and parameters: {'criterion': 'gini', 'n_estimators': 1477, 'max_depth': 14, 'max_features': 0.24470090310618905}. Best is trial 1 with value: -0.89.\n",
      "[I 2024-05-24 11:49:41,698] Trial 3 finished with value: -0.885 and parameters: {'criterion': 'gini', 'n_estimators': 1402, 'max_depth': 8, 'max_features': 0.34687600016429004}. Best is trial 1 with value: -0.89.\n",
      "[I 2024-05-24 11:49:46,223] Trial 4 finished with value: -0.9025 and parameters: {'criterion': 'gini', 'n_estimators': 1069, 'max_depth': 14, 'max_features': 0.8533631632387211}. Best is trial 4 with value: -0.9025.\n",
      "[I 2024-05-24 11:49:46,495] Trial 5 finished with value: -0.85 and parameters: {'criterion': 'gini', 'n_estimators': 167, 'max_depth': 13, 'max_features': 0.1712448896690598}. Best is trial 4 with value: -0.9025.\n",
      "[I 2024-05-24 11:49:48,398] Trial 6 finished with value: -0.9125 and parameters: {'criterion': 'entropy', 'n_estimators': 568, 'max_depth': 10, 'max_features': 0.5304880911864926}. Best is trial 6 with value: -0.9125.\n",
      "[I 2024-05-24 11:49:49,575] Trial 7 finished with value: -0.9125 and parameters: {'criterion': 'entropy', 'n_estimators': 291, 'max_depth': 10, 'max_features': 0.7448538410374459}. Best is trial 6 with value: -0.9125.\n",
      "[I 2024-05-24 11:49:51,917] Trial 8 finished with value: -0.91 and parameters: {'criterion': 'entropy', 'n_estimators': 473, 'max_depth': 11, 'max_features': 0.9693411438850027}. Best is trial 6 with value: -0.9125.\n",
      "[I 2024-05-24 11:49:52,208] Trial 9 finished with value: -0.885 and parameters: {'criterion': 'gini', 'n_estimators': 154, 'max_depth': 8, 'max_features': 0.315614150236262}. Best is trial 6 with value: -0.9125.\n"
     ]
    }
   ],
   "source": [
    "if __name__ == \"__main__\":\n",
    "    # Load the dataset\n",
    "    df = pd.read_csv(\"./mobile_price_data/train.csv\")\n",
    "    \n",
    "    # Separate features (X) and target variable (y)\n",
    "    X = df.drop(\"price_range\", axis=1).values\n",
    "    y = df[\"price_range\"].values\n",
    "\n",
    "    opt_model = partial(optimize_model, x=X, y=y)\n",
    "\n",
    "    study = optuna .create_study(direction=\"minimize\", study_name=\"Random Forest Optimization\")\n",
    "    study.optimize(opt_model, n_trials=10)\n",
    "\n",
    "    # print(result)\n",
    "\n"
   ]
  }
 ],
 "metadata": {
  "kernelspec": {
   "display_name": "Python 3",
   "language": "python",
   "name": "python3"
  },
  "language_info": {
   "codemirror_mode": {
    "name": "ipython",
    "version": 3
   },
   "file_extension": ".py",
   "mimetype": "text/x-python",
   "name": "python",
   "nbconvert_exporter": "python",
   "pygments_lexer": "ipython3",
   "version": "3.11.6"
  }
 },
 "nbformat": 4,
 "nbformat_minor": 2
}
