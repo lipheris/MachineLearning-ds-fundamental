{
 "cells": [
  {
   "cell_type": "markdown",
   "metadata": {},
   "source": [
    "# 自動調參工具\n",
    "\n",
    "\n",
    "## hyperopt\n",
    "\n",
    "Hyperopt is a versatile and general-purpose optimization library that can be used for a wide range of optimization problems, including but not limited to machine learning.\n",
    "\n",
    "https://github.com/hyperopt/hyperopt\n",
    "\n",
    "\n",
    "## hyperopt-sklearn\n",
    "Hyperopt-sklearn is a specialized tool built on Hyperopt, designed specifically to simplify hyperparameter optimization for scikit-learn models. It offers ease of use and predefined configurations, making it ideal for users working within the scikit-learn framework.\n",
    "\n",
    "https://github.com/hyperopt/hyperopt-sklearn\n",
    "\n",
    "\n",
    "\n"
   ]
  },
  {
   "cell_type": "code",
   "execution_count": 13,
   "metadata": {},
   "outputs": [],
   "source": [
    "import pandas as pd\n",
    "import numpy as np\n",
    "\n",
    "from sklearn import metrics\n",
    "from sklearn.model_selection import StratifiedKFold, RandomizedSearchCV\n",
    "from sklearn.pipeline import Pipeline\n",
    "from sklearn.preprocessing import StandardScaler\n",
    "from sklearn.decomposition import PCA\n",
    "from sklearn.ensemble import RandomForestClassifier\n",
    "\n",
    "from functools import partial\n",
    "from skopt import space, gp_minimize\n",
    "\n",
    "from hyperopt import hp, fmin, tpe, Trials, STATUS_OK, STATUS_FAIL, space_eval\n",
    "from hyperopt.pyll.base import scope\n",
    "\n",
    "\n"
   ]
  },
  {
   "cell_type": "markdown",
   "metadata": {},
   "source": [
    "## 定義代理函數"
   ]
  },
  {
   "cell_type": "code",
   "execution_count": 14,
   "metadata": {},
   "outputs": [],
   "source": [
    "# Function definition for model optimization\n",
    "def optimize_model(params, x, y):\n",
    "    \n",
    "    model = RandomForestClassifier(**params)\n",
    "    kf = StratifiedKFold(n_splits=5)\n",
    "    accuracies = []\n",
    "\n",
    "    for idx in kf.split(X=x, y=y):\n",
    "        train_idx, test_idx = idx[0], idx[1]\n",
    "        x_train = x[train_idx]\n",
    "        y_train = y[train_idx]\n",
    "\n",
    "        x_test = x[test_idx]\n",
    "        y_test = y[test_idx]\n",
    "\n",
    "        model.fit(x_train, y_train)\n",
    "        preds = model.predict(x_test)\n",
    "\n",
    "        fold_acc = metrics.accuracy_score(y_test, preds)\n",
    "        accuracies.append(fold_acc)\n",
    "\n",
    "        return -1.0 * np.mean(accuracies)\n"
   ]
  },
  {
   "cell_type": "code",
   "execution_count": 15,
   "metadata": {},
   "outputs": [
    {
     "name": "stdout",
     "output_type": "stream",
     "text": [
      "100%|██████████| 15/15 [00:12<00:00,  1.17trial/s, best loss: -0.9125]\n",
      "{'criterion': 1, 'max_depth': 7.0, 'max_features': 0.7521270896486781, 'n_estimators': 439.0}\n"
     ]
    }
   ],
   "source": [
    "if __name__ == \"__main__\":\n",
    "    # Load the dataset\n",
    "    df = pd.read_csv(\"./mobile_price_data/train.csv\")\n",
    "    \n",
    "    # Separate features (X) and target variable (y)\n",
    "    X = df.drop(\"price_range\", axis=1).values\n",
    "    y = df[\"price_range\"].values\n",
    "\n",
    "    param_space = {\n",
    "        \"max_depth\": scope.int(hp.quniform(\"max_depth\", 3, 15, 1)),  # The maximum depth of the trees\n",
    "        \"n_estimators\": scope.int(hp.quniform(\"n_estimators\", 100, 600, 1)),  # The number of trees in the forest\n",
    "        \"criterion\": hp.choice(\"criterion\", [\"gini\", \"entropy\"]),  # The function to measure the quality of a split\n",
    "        \"max_features\": hp.uniform(\"max_features\", 0.01, 1)  # The number of features to consider for the best split\n",
    "    }\n",
    "\n",
    "    # Create a partial function for optimization, passing fixed arguments\n",
    "    optimize_function = partial(\n",
    "        optimize_model,\n",
    "        x=X,\n",
    "        y=y\n",
    "    )\n",
    "\n",
    "    trials = Trials()\n",
    "\n",
    "    # Run the optimization\n",
    "    result = fmin(\n",
    "        fn=optimize_function,\n",
    "        space=param_space,\n",
    "        algo=tpe.suggest,\n",
    "        max_evals=15,\n",
    "        trials=trials\n",
    "    )\n",
    "\n",
    "    print(result)\n",
    "\n"
   ]
  }
 ],
 "metadata": {
  "kernelspec": {
   "display_name": "Python 3",
   "language": "python",
   "name": "python3"
  },
  "language_info": {
   "codemirror_mode": {
    "name": "ipython",
    "version": 3
   },
   "file_extension": ".py",
   "mimetype": "text/x-python",
   "name": "python",
   "nbconvert_exporter": "python",
   "pygments_lexer": "ipython3",
   "version": "3.11.6"
  }
 },
 "nbformat": 4,
 "nbformat_minor": 2
}
