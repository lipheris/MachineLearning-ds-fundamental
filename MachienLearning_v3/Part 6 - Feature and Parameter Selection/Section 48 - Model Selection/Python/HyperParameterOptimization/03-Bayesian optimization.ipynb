{
 "cells": [
  {
   "cell_type": "markdown",
   "metadata": {},
   "source": [
    "## Bayesian optimization using Gaussian Processes"
   ]
  },
  {
   "cell_type": "code",
   "execution_count": 11,
   "metadata": {},
   "outputs": [],
   "source": [
    "import pandas as pd\n",
    "import numpy as np\n",
    "\n",
    "\n",
    "from sklearn import metrics\n",
    "from sklearn.model_selection import StratifiedKFold, RandomizedSearchCV\n",
    "from sklearn.pipeline import Pipeline\n",
    "from sklearn.preprocessing import StandardScaler\n",
    "from sklearn.decomposition import PCA\n",
    "from sklearn.ensemble import RandomForestClassifier\n",
    "\n",
    "from functools import partial\n",
    "from skopt import space, gp_minimize"
   ]
  },
  {
   "cell_type": "code",
   "execution_count": 12,
   "metadata": {},
   "outputs": [],
   "source": [
    "df = pd.read_csv(\"./mobile_price_data/train.csv\")\n",
    "X = df.drop(\"price_range\", axis=1).values\n",
    "y = df[\"price_range\"].values"
   ]
  },
  {
   "cell_type": "markdown",
   "metadata": {},
   "source": [
    "## 定義代理函數"
   ]
  },
  {
   "cell_type": "code",
   "execution_count": 13,
   "metadata": {},
   "outputs": [],
   "source": [
    "def optimize_model(params, param_names, x, y):\n",
    "    params = dict(zip(param_names, params))\n",
    "    model = RandomForestClassifier(**params)\n",
    "    kf = StratifiedKFold(n_splits=5)\n",
    "    accuracies = []\n",
    "\n",
    "    for idx in kf.split(X=x, y=y):\n",
    "        train_idx, test_idx = idx[0], idx[1]\n",
    "        x_train = x[train_idx]\n",
    "        y_train = y[train_idx]\n",
    "\n",
    "        x_test = x[test_idx]\n",
    "        y_test = y[test_idx]\n",
    "\n",
    "        model.fit(x_train, y_train)\n",
    "        preds = model.predict(x_test)\n",
    "\n",
    "        fold_acc = metrics.accuracy_score(y_test, preds)\n",
    "        accuracies.append(fold_acc)\n",
    "\n",
    "        return -1.0 * np.mean(accuracies)\n"
   ]
  },
  {
   "cell_type": "markdown",
   "metadata": {},
   "source": [
    "## 參數空間選定"
   ]
  },
  {
   "cell_type": "code",
   "execution_count": 17,
   "metadata": {},
   "outputs": [],
   "source": [
    "param_space = [\n",
    "    space.Integer(3, 15, name=\"max_depth\"),\n",
    "    space.Integer(100, 600, name=\"n_estimators\"),\n",
    "    space.Categorical([\"gini\", \"entropy\"], name=\"criterion\"),\n",
    "    space.Real(0.01, 1, prior=\"uniform\", name=\"max_features\")\n",
    "]\n",
    "\n",
    "param_names = [ \"max_depth\", \"n_estimators\", \"criterion\", \"max_features\"]"
   ]
  },
  {
   "cell_type": "code",
   "execution_count": 18,
   "metadata": {},
   "outputs": [],
   "source": [
    "optimize_function = partial(\n",
    "    optimize_model,\n",
    "    param_names=param_names,\n",
    "    x=X,\n",
    "    y=y\n",
    ")\n"
   ]
  },
  {
   "cell_type": "markdown",
   "metadata": {},
   "source": [
    "## 高斯優化"
   ]
  },
  {
   "cell_type": "code",
   "execution_count": 19,
   "metadata": {},
   "outputs": [
    {
     "name": "stdout",
     "output_type": "stream",
     "text": [
      "Iteration No: 1 started. Evaluating function at random point.\n",
      "Iteration No: 1 ended. Evaluation done at random point.\n",
      "Time taken: 0.3171\n",
      "Function value obtained: -0.8325\n",
      "Current minimum: -0.8325\n",
      "Iteration No: 2 started. Evaluating function at random point.\n",
      "Iteration No: 2 ended. Evaluation done at random point.\n",
      "Time taken: 1.9206\n",
      "Function value obtained: -0.8800\n",
      "Current minimum: -0.8800\n",
      "Iteration No: 3 started. Evaluating function at random point.\n",
      "Iteration No: 3 ended. Evaluation done at random point.\n",
      "Time taken: 0.7970\n",
      "Function value obtained: -0.8700\n",
      "Current minimum: -0.8800\n",
      "Iteration No: 4 started. Evaluating function at random point.\n",
      "Iteration No: 4 ended. Evaluation done at random point.\n",
      "Time taken: 2.3497\n",
      "Function value obtained: -0.9025\n",
      "Current minimum: -0.9025\n",
      "Iteration No: 5 started. Evaluating function at random point.\n",
      "Iteration No: 5 ended. Evaluation done at random point.\n",
      "Time taken: 0.4380\n",
      "Function value obtained: -0.8575\n",
      "Current minimum: -0.9025\n",
      "Iteration No: 6 started. Evaluating function at random point.\n",
      "Iteration No: 6 ended. Evaluation done at random point.\n",
      "Time taken: 1.0179\n",
      "Function value obtained: -0.9025\n",
      "Current minimum: -0.9025\n",
      "Iteration No: 7 started. Evaluating function at random point.\n",
      "Iteration No: 7 ended. Evaluation done at random point.\n",
      "Time taken: 1.1672\n",
      "Function value obtained: -0.9125\n",
      "Current minimum: -0.9125\n",
      "Iteration No: 8 started. Evaluating function at random point.\n",
      "Iteration No: 8 ended. Evaluation done at random point.\n",
      "Time taken: 0.5366\n",
      "Function value obtained: -0.8950\n",
      "Current minimum: -0.9125\n",
      "Iteration No: 9 started. Evaluating function at random point.\n",
      "Iteration No: 9 ended. Evaluation done at random point.\n",
      "Time taken: 1.6866\n",
      "Function value obtained: -0.9125\n",
      "Current minimum: -0.9125\n",
      "Iteration No: 10 started. Evaluating function at random point.\n",
      "Iteration No: 10 ended. Evaluation done at random point.\n",
      "Time taken: 3.0711\n",
      "Function value obtained: -0.9175\n",
      "Current minimum: -0.9175\n",
      "Iteration No: 11 started. Searching for the next optimal point.\n",
      "Iteration No: 11 ended. Search finished for the next optimal point.\n",
      "Time taken: 0.9477\n",
      "Function value obtained: -0.7575\n",
      "Current minimum: -0.9175\n",
      "Iteration No: 12 started. Searching for the next optimal point.\n",
      "Iteration No: 12 ended. Search finished for the next optimal point.\n",
      "Time taken: 3.0805\n",
      "Function value obtained: -0.9125\n",
      "Current minimum: -0.9175\n",
      "Iteration No: 13 started. Searching for the next optimal point.\n",
      "Iteration No: 13 ended. Search finished for the next optimal point.\n",
      "Time taken: 2.7080\n",
      "Function value obtained: -0.8925\n",
      "Current minimum: -0.9175\n",
      "Iteration No: 14 started. Searching for the next optimal point.\n",
      "Iteration No: 14 ended. Search finished for the next optimal point.\n",
      "Time taken: 0.5105\n",
      "Function value obtained: -0.9100\n",
      "Current minimum: -0.9175\n",
      "Iteration No: 15 started. Searching for the next optimal point.\n",
      "Iteration No: 15 ended. Search finished for the next optimal point.\n",
      "Time taken: 0.6504\n",
      "Function value obtained: -0.9125\n",
      "Current minimum: -0.9175\n"
     ]
    }
   ],
   "source": [
    "result = gp_minimize(\n",
    "    optimize_function,\n",
    "    dimensions=param_space,\n",
    "    n_calls=15,\n",
    "    n_random_starts=10,\n",
    "    verbose=10\n",
    ")\n"
   ]
  },
  {
   "cell_type": "code",
   "execution_count": 25,
   "metadata": {},
   "outputs": [
    {
     "name": "stdout",
     "output_type": "stream",
     "text": [
      "Best parameters found: {'max_depth': 11, 'n_estimators': 594, 'criterion': 'entropy', 'max_features': 0.9780310947415617}\n",
      "Best accuracy: 0.9175\n"
     ]
    }
   ],
   "source": [
    "print(\"Best parameters found:\", dict(zip(param_names, result.x)))\n",
    "print(\"Best accuracy:\", -result.fun)"
   ]
  }
 ],
 "metadata": {
  "kernelspec": {
   "display_name": "Python 3",
   "language": "python",
   "name": "python3"
  },
  "language_info": {
   "codemirror_mode": {
    "name": "ipython",
    "version": 3
   },
   "file_extension": ".py",
   "mimetype": "text/x-python",
   "name": "python",
   "nbconvert_exporter": "python",
   "pygments_lexer": "ipython3",
   "version": "3.11.6"
  }
 },
 "nbformat": 4,
 "nbformat_minor": 2
}
