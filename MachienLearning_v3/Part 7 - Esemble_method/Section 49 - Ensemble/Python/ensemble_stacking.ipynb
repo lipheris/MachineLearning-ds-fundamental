{
 "cells": [
  {
   "cell_type": "markdown",
   "metadata": {},
   "source": [
    "## 訓練和評估個別模型"
   ]
  },
  {
   "cell_type": "code",
   "execution_count": 15,
   "metadata": {},
   "outputs": [
    {
     "name": "stdout",
     "output_type": "stream",
     "text": [
      "Linear Regression - MSE: 0.56, R2: 0.58\n",
      "SVR - MSE: 1.33, R2: -0.02\n",
      "Decision Tree - MSE: 0.50, R2: 0.62\n",
      "Optimized Linear Regression - MSE: 0.56, R2: 0.58, Best Params: {'fit_intercept': True}\n"
     ]
    },
    {
     "name": "stderr",
     "output_type": "stream",
     "text": [
      "c:\\Users\\sunny_weng\\AppData\\Local\\Programs\\Python\\Python311\\Lib\\site-packages\\sklearn\\model_selection\\_search.py:318: UserWarning: The total space of parameters 2 is smaller than n_iter=10. Running 2 iterations. For exhaustive searches, use GridSearchCV.\n",
      "  warnings.warn(\n",
      "c:\\Users\\sunny_weng\\AppData\\Local\\Programs\\Python\\Python311\\Lib\\site-packages\\sklearn\\model_selection\\_search.py:318: UserWarning: The total space of parameters 6 is smaller than n_iter=10. Running 6 iterations. For exhaustive searches, use GridSearchCV.\n",
      "  warnings.warn(\n"
     ]
    },
    {
     "name": "stdout",
     "output_type": "stream",
     "text": [
      "Optimized SVR - MSE: 0.66, R2: 0.50, Best Params: {'gamma': 'scale', 'C': 100}\n"
     ]
    },
    {
     "name": "stderr",
     "output_type": "stream",
     "text": [
      "c:\\Users\\sunny_weng\\AppData\\Local\\Programs\\Python\\Python311\\Lib\\site-packages\\sklearn\\model_selection\\_search.py:318: UserWarning: The total space of parameters 9 is smaller than n_iter=10. Running 9 iterations. For exhaustive searches, use GridSearchCV.\n",
      "  warnings.warn(\n"
     ]
    },
    {
     "name": "stdout",
     "output_type": "stream",
     "text": [
      "Optimized Decision Tree - MSE: 0.41, R2: 0.69, Best Params: {'min_samples_leaf': 4, 'max_depth': 10}\n"
     ]
    }
   ],
   "source": [
    "import numpy as np\n",
    "from sklearn.datasets import fetch_california_housing\n",
    "from sklearn.linear_model import LinearRegression\n",
    "from sklearn.svm import SVR\n",
    "from sklearn.tree import DecisionTreeRegressor\n",
    "from sklearn.model_selection import train_test_split, RandomizedSearchCV\n",
    "from sklearn.metrics import mean_squared_error, r2_score\n",
    "\n",
    "# 載入數據集\n",
    "data = fetch_california_housing()\n",
    "X, y = data.data, data.target\n",
    "\n",
    "# 分割數據\n",
    "X_train, X_test, y_train, y_test = train_test_split(X, y, test_size=0.2, random_state=42)\n",
    "\n",
    "# 定義模型\n",
    "models = {\n",
    "    'Linear Regression': LinearRegression(),\n",
    "    'SVR': SVR(),\n",
    "    'Decision Tree': DecisionTreeRegressor(random_state=42)\n",
    "}\n",
    "\n",
    "# Train each model, predict and evaluate\n",
    "results = {}\n",
    "for name, model in models.items():\n",
    "    model.fit(X_train, y_train)\n",
    "    predictions = model.predict(X_test)\n",
    "    mse = mean_squared_error(y_test, predictions)\n",
    "    r2 = r2_score(y_test, predictions)\n",
    "    results[name] = {'MSE': mse, 'R2': r2}\n",
    "    print(f\"{name} - MSE: {mse:.2f}, R2: {r2:.2f}\")\n",
    "\n",
    "# Define parameter grid for RandomizedSearchCV\n",
    "param_grid = {\n",
    "    'Linear Regression': {'fit_intercept': [True, False]},\n",
    "    'SVR': {'C': [1, 10, 100], 'gamma': ['scale', 'auto']},\n",
    "    'Decision Tree': {'max_depth': [None, 10, 20], 'min_samples_leaf': [1, 2, 4]}\n",
    "}\n",
    "\n",
    "# RandomizedSearchCV to optimize each model\n",
    "optimized_results = {}\n",
    "best_models = {}\n",
    "for name, model in models.items():\n",
    "    random_search = RandomizedSearchCV(estimator=model, param_distributions=param_grid[name], n_iter=10, cv=5, scoring='neg_mean_squared_error', random_state=42)\n",
    "    random_search.fit(X_train, y_train)\n",
    "    best_model = random_search.best_estimator_\n",
    "\n",
    "    # Save the best model\n",
    "    best_models[name] = best_model\n",
    "    predictions = best_model.predict(X_test)\n",
    "\n",
    "    mse = mean_squared_error(y_test, predictions)\n",
    "    r2 = r2_score(y_test, predictions)\n",
    "\n",
    "    optimized_results[name] = {'MSE': mse, 'R2': r2, 'Best Params': random_search.best_params_}\n",
    "    print(f\"Optimized {name} - MSE: {mse:.2f}, R2: {r2:.2f}, Best Params: {random_search.best_params_}\")\n",
    "\n",
    "\n",
    "# 選擇最佳模型\n",
    "top_models = sorted(optimized_results, key=optimized_results.get(\"MSE\"))[:2]  # 選擇表現最佳的兩個模型\n",
    "\n"
   ]
  },
  {
   "cell_type": "code",
   "execution_count": 14,
   "metadata": {},
   "outputs": [
    {
     "data": {
      "text/plain": [
       "['Decision Tree', 'Linear Regression']"
      ]
     },
     "execution_count": 14,
     "metadata": {},
     "output_type": "execute_result"
    }
   ],
   "source": [
    "best_models"
   ]
  },
  {
   "cell_type": "markdown",
   "metadata": {},
   "source": [
    "## 堆疊最優模型"
   ]
  },
  {
   "cell_type": "code",
   "execution_count": 16,
   "metadata": {},
   "outputs": [
    {
     "name": "stdout",
     "output_type": "stream",
     "text": [
      "Stacked Model Mean Squared Error: 0.40\n"
     ]
    }
   ],
   "source": [
    "# 基於最佳模型的預測來訓練元模型\n",
    "train_preds = []\n",
    "test_preds = []\n",
    "\n",
    "for name in top_models:\n",
    "    model = best_models[name]\n",
    "    train_preds.append(model.predict(X_train))\n",
    "    test_preds.append(model.predict(X_test))\n",
    "\n",
    "# 轉換預測數據為 NumPy 矩陣\n",
    "train_meta_features = np.column_stack(train_preds)\n",
    "test_meta_features = np.column_stack(test_preds)\n",
    "\n",
    "# 訓練元模型\n",
    "meta_model = LinearRegression()\n",
    "meta_model.fit(train_meta_features, y_train)\n",
    "\n",
    "# 使用元模型進行預測\n",
    "final_predictions = meta_model.predict(test_meta_features)\n",
    "\n",
    "# 計算預測的均方誤差\n",
    "mse = mean_squared_error(y_test, final_predictions)\n",
    "print(f\"Stacked Model Mean Squared Error: {mse:.2f}\")\n"
   ]
  }
 ],
 "metadata": {
  "kernelspec": {
   "display_name": "Python 3",
   "language": "python",
   "name": "python3"
  },
  "language_info": {
   "codemirror_mode": {
    "name": "ipython",
    "version": 3
   },
   "file_extension": ".py",
   "mimetype": "text/x-python",
   "name": "python",
   "nbconvert_exporter": "python",
   "pygments_lexer": "ipython3",
   "version": "3.11.8"
  }
 },
 "nbformat": 4,
 "nbformat_minor": 2
}
